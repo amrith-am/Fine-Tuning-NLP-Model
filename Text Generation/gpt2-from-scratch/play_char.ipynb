{
 "cells": [
  {
   "cell_type": "code",
   "execution_count": 1,
   "metadata": {},
   "outputs": [],
   "source": [
    "# set up logging\n",
    "import logging\n",
    "logging.basicConfig(\n",
    "    format=\"%(asctime)s - %(levelname)s - %(name)s -    %(message)s\",\n",
    "    datefmt=\"%m/%d/%Y %H:%M:%S\",\n",
    "    level=logging.INFO,\n",
    ")"
   ]
  },
  {
   "cell_type": "code",
   "execution_count": 2,
   "metadata": {},
   "outputs": [],
   "source": [
    "# make deterministic\n",
    "from mingpt.utils import set_seed\n",
    "set_seed(42)"
   ]
  },
  {
   "cell_type": "code",
   "execution_count": 3,
   "metadata": {},
   "outputs": [],
   "source": [
    "import numpy as np\n",
    "import torch\n",
    "import torch.nn as nn\n",
    "from torch.nn import functional as F"
   ]
  },
  {
   "cell_type": "code",
   "execution_count": 10,
   "metadata": {},
   "outputs": [],
   "source": [
    "import math\n",
    "from torch.utils.data import Dataset\n",
    "\n",
    "\n",
    "class CharDataset(Dataset):\n",
    "\n",
    "    def __init__(self, data, block_size):\n",
    "        chars = sorted(list(set(data)))\n",
    "        data_size, vocab_size = len(data), len(chars)\n",
    "        print(f\"data has {data_size:d} characters, {vocab_size:d} unique.\")\n",
    "\n",
    "        self.stoi = { ch: i for i, ch in enumerate(chars) }\n",
    "        self.itos = { i: ch for i, ch in enumerate(chars) }\n",
    "        self.block_size = block_size\n",
    "        self.vocab_size = vocab_size\n",
    "        self.data = data\n",
    "    \n",
    "    def __len__(self):\n",
    "        return len(self.data) - self.block_size\n",
    "    \n",
    "    def __getitem__(self, idx):\n",
    "        # grab a chunk of (block_size + 1) characters from the data\n",
    "        chunk = self.data[idx:idx+self.block_size+1]\n",
    "        # encode every character to an integer\n",
    "        dix = [self.stoi[s] for s in chunk]\n",
    "        \"\"\"\n",
    "        arrange data and targets so that the first i elements of x\n",
    "        will be asked to predict the i-th element of y. Notice that\n",
    "        the eventual language model will actually make block_size\n",
    "        individual predictions at the same time based on this data,\n",
    "        so we are being clever and amortizing the cost of the forward\n",
    "        pass of the network. So for example if block_size is 4, then\n",
    "        we could e.g. sample a chunk of text \"hello\", the integers in\n",
    "        x will correspond to \"hell\" and in y will be \"ello\". This will\n",
    "        then actually \"multitask\" 4 separate examples at the same time\n",
    "        in the language model:\n",
    "        - given just \"h\", please predict \"e\" as next\n",
    "        - given \"he\" please predict \"l\" next\n",
    "        - given \"hel\" predict \"l\" next\n",
    "        - given \"hell\" predict \"o\" next\n",
    "        \n",
    "        In addition, because the DataLoader will create batches of examples,\n",
    "        every forward/backward pass during traning will simultaneously train\n",
    "        a LOT of predictions, amortizing a lot of computation. In particular,\n",
    "        for a batched input of integers X (B, T) where B is batch size and\n",
    "        T is block_size and Y (B, T), the network will during training be\n",
    "        simultaneously training to make B*T predictions, all at once! Of course,\n",
    "        at test time we can paralellize across batch B, but unlike during training\n",
    "        we cannot parallelize across the time dimension T - we have to run\n",
    "        a forward pass of the network to recover the next single character of the \n",
    "        sequence along each batch dimension, and repeatedly always feed in a next\n",
    "        character to get the next one.\n",
    "        \n",
    "        So yes there is a big asymmetry between train/test time of autoregressive\n",
    "        models. During training we can go B*T at a time with every forward pass,\n",
    "        but during test time we can only go B at a time, T times, with T forward \n",
    "        passes.\n",
    "        \"\"\"\n",
    "        x = torch.tensor(dix[:-1], dtype=torch.long)\n",
    "        y = torch.tensor(dix[1:], dtype=torch.long)\n",
    "        return x, y"
   ]
  },
  {
   "cell_type": "code",
   "execution_count": 11,
   "metadata": {},
   "outputs": [],
   "source": [
    "block_size = 128  # spacial extent of the model for its context"
   ]
  },
  {
   "cell_type": "code",
   "execution_count": 20,
   "metadata": {},
   "outputs": [
    {
     "name": "stdout",
     "output_type": "stream",
     "text": [
      "data has 3250633 characters, 119 unique.\n"
     ]
    }
   ],
   "source": [
    "# text = open('/home/grads/xiaohan/scratch/minGPT/data/The Old Man and the Sea.txt', 'r').read()\n",
    "text = open('/home/grads/xiaohan/scratch/minGPT/data/135.txt', 'r').read()\n",
    "train_dataset = CharDataset(text, block_size = 128) # one line of poem is roughly 50 characters"
   ]
  },
  {
   "cell_type": "code",
   "execution_count": 21,
   "metadata": {},
   "outputs": [
    {
     "name": "stderr",
     "output_type": "stream",
     "text": [
      "01/09/2023 18:58:28 - INFO - mingpt.model -    number of parameters: 12797952\n"
     ]
    }
   ],
   "source": [
    "from mingpt.model import GPT, GPTConfig\n",
    "\n",
    "\n",
    "mconf = GPTConfig(\n",
    "    train_dataset.vocab_size,\n",
    "    train_dataset.block_size,\n",
    "    n_layer=4,\n",
    "    n_head=8,\n",
    "    n_embd=512,\n",
    ")\n",
    "model = GPT(mconf)"
   ]
  },
  {
   "cell_type": "code",
   "execution_count": null,
   "metadata": {},
   "outputs": [
    {
     "name": "stderr",
     "output_type": "stream",
     "text": [
      "  0%|                                                              | 0/6349 [00:00<?, ?it/s]/home/grads/xiaohan/scratch/lib/python3.8/site-packages/torch/nn/parallel/_functions.py:68: UserWarning: Was asked to gather along dimension 0, but all input tensors were scalars; will instead unsqueeze and return a vector.\n",
      "  warnings.warn('Was asked to gather along dimension 0, but all '\n",
      "epoch 1 iter 1914: train loss 1.05357, lr 5.669549e-04:  30%|▎| 1913/6349 [03:04<06:57, 10.6"
     ]
    }
   ],
   "source": [
    "from mingpt.trainer import Trainer, TrainerConfig\n",
    "\n",
    "# initialize a trainer instance and kick off training\n",
    "tconf = TrainerConfig(\n",
    "    max_epochs=2,\n",
    "    batch_size=512,\n",
    "    learning_rate=6e-4,\n",
    "    lr_decay=True,\n",
    "    warmup_tokens=512*20,\n",
    "    final_tokens=2*len(train_dataset)*block_size,\n",
    "    num_workers=4,\n",
    ")\n",
    "trainer = Trainer(model, train_dataset, None, tconf)\n",
    "trainer.train()"
   ]
  },
  {
   "cell_type": "code",
   "execution_count": 19,
   "metadata": {},
   "outputs": [
    {
     "name": "stdout",
     "output_type": "stream",
     "text": [
      "他来了，也不禁暗暗吃惊，心想一掌打断一杆枪并不稀奇，马尾巴是软的，怎能用手割断？勒马想等师父上来请问，但一转念，又赌气不问了，追上了曾图南，道：“曾参将，我的马尾巴不知怎么断了，真难看。”说着嘟起了嘴。曾图南知她心意，道：“我这坐骑不知怎么搞的，今儿老是闹倔脾气，说甚么也制它不了。小姐骑术好，劳你的驾，帮我治一下行么？”李沅芷谦逊一句：“怕我也不成。”两人换了坐骑。曾参将那马其实乖乖的，半点脾气也没有。曾参将还赞一句：“小姐，真有你的，连马也服你。”\n",
      "\n",
      "\n",
      "\n",
      "　　李夫人怕大车走快了颠簸，是以这队人一直缓缓而行。但听得镖局的趟子声越喊越近，不一会，二十几匹骡驮赶了上来。\n",
      "\n",
      "\n",
      "　　陆菲青怕有熟人，背转了身，将一顶大草帽遮住半边脸，偷看马上镖师。七八名镖师纵马经过，只听一名镖师道：“听韩大哥说，焦文期焦三哥已有了下落。”陆菲青大吃一惊。回头看那镖师，晃眼间只看到他满脸胡子，黑漆漆的一张长脸，等他擦身而过，见他背上负着一个红色包袱，还有一对奇形兵器，竟是外门中的利器五行轮，寻思：“遮莫关东六魔做了镖师？”关东六魔除焦文期外，其余五人都未见过，只知每人均是武艺高强，五魔阎世魁、六魔阎世章都使五行轮，外家硬功夫极是了得。\n",
      "\n",
      "\n",
      "　　他心下盘算，这次出门来遇到不少武林高手，镇远镖局看情形真的是在走镖，那也罢了，另外那些人如果均是为己而来，那实是凶多吉少，避之犹恐不及，偏偏这个女弟子少不更事，不断去招惹人家。不过看情形又不像是为自己而来，赵半山是好朋友，决不致不念旧情。那么他们一批一批西去，又为的何来？\n",
      "\n",
      "\n",
      "　　李沅芷和曾参将换了坐骑，见他骑了没尾巴马，暗自好笑，勒定了马等师父过来，笑道：“师父，怎么对面没人来了？从昨天算起，已有五对人往西去了，我倒真想再见识见识几个英雄好汉。”\n",
      "\n",
      "\n",
      "\n",
      "　　一句话提醒了陆菲青，他一拍大腿，说道：“啊，老胡涂啦，怎么没想到‘千里接龙头’这回事。”只因心中挂着自己的事，尽往与自己有关的方面去推测，哪知全想岔了。李沅芷道：“甚么‘千里接龙头’？”陆菲青道：“那是江湖上帮会里最隆重的礼节，通常是帮会中行辈最高的六人，一边无后，至于老前辈于听赵半山的三哥、常氏双侠，你们四位过去追踪，我们三人在花园里享南。”周仲英道：“这位是符嘉宾、常、常氏兄弟似乎。”孟健雄等听他说八道：“这些年来辛苦你啦，快放在心上，一点小意。”\n",
      "\n",
      "\n",
      "　　原来厅中首先中火烫，迷迷糊糊糊的叫：“水工，自己又被，今儿出来了。”\n",
      "\n",
      "\n",
      "\n",
      "　　白振回过头来，见乾隆帝亲手下旨，颇为踌躇，从满壁上包一件衣冠。正待和武铭夫见陈家洛等都站在门外，心想倘若真是一面子，重有一面帮手，这般见过他请教，立即使出话来，说道：“不错，这位是皇上着江南。”乾隆道：“红花会是第一位官位陈公子，一向随意示感激，也决不容他问道：“你们识得红花会的太很。”\n",
      "\n",
      "\n",
      "　　乾隆吁了口气，道：“那天他深夜来见我，你可知是为了甚么？”文泰来大喜，道：“你既然如此，那就不见得你的了。你既然答应，也不能失信。这样吧，我不杀他就是。”陈家洛道：“那么我们只好动手来救了。我求你释放，不是说我们救不出，只是怕动刀动刀动枪，伤了你我的和气。”\n",
      "\n",
      "\n",
      "　　乾隆昨天见过红花会人马的声势本领，知他这话倒也不是夸口，说道：“好意我心领了。老实对你说，这人决不容他离我掌握，你既决意要救，三天之后，只好杀了。”陈家洛热血沸腾，说道：“要是你杀了我文四哥，只怕从此睡不安席，食不甘味。”乾隆冷冷的道：“如不杀他，更是食不甘味，睡不安席。”陈家洛道：“这样说来，你贵为至尊，倒不如我这闲云野鹤快活逍遥。”乾隆不愿他再提文泰来之事，问道：“你今年几岁？”陈家洛道：“二十五了。”乾隆叹道：“我不羡你闲云野鹤，却羡你青春年少。唉，任人功业盖世，寿数一到，终归化为黄土罢了。”\n",
      "\n",
      "\n",
      "\n",
      "　　两人又漫步一会，乾隆问道：“你有几位夫人？”不等他回答，从身上解下一块佩玉，说道：“这块宝玉也算得是希世之珍，你拿去赠给夫人吧。”陈家洛不接，道：“我未娶妻。”乾隆哈哈大笑，说道：“你总是眼界太高，是以至今未有当意之人。这块宝玉，你将来赠给意中人，作为定情之物吧。”\n",
      "\n",
      "\n",
      "　　玉色晶莹，在月亮下发出淡淡柔光，陈家洛谢了接过，触手生温，原来是一块异常珍贵的暖玉。玉上以金丝嵌着四行细篆铭文：\n",
      "\n",
      "\n",
      "　　“情深不寿，强极则辱。谦谦君子，温润如玉”四句铭文。他给陈家洛时曾说要他将来赠给意中人作为定情之物，难道这两人之间竟有情缘？忙问：“你识得他？”顿了一顿，又道：“这玉从哪里来的？”\n",
      "\n",
      "\n",
      "\n",
      "　　香香公主伸出左手，道：“还我。”乾隆妒意顿起，问道：“你说是谁给你的，我就还你。”香香公主道：“是我丈夫给我的。”这一句回答又大出他意料之外，忙问：“你嫁过人了？”香香公主傲然道：“我的身子虽然还是你的人，我们永远不理你。”陈家洛道：“咱们快快去。”香香公主听着他柔声安慰，望着太阳慢慢向群山丛\n"
     ]
    }
   ],
   "source": [
    "# alright, let's sample some character-level Shaespeare\n",
    "from mingpt.utils import sample\n",
    "\n",
    "context = \"他来了，\"\n",
    "x = torch.tensor([train_dataset.stoi[s] for s in context], dtype=torch.long)[None, ...].to(trainer.device)\n",
    "y = sample(model, x, 2000, temperature=1.0, sample=True, top_k=10)[0]\n",
    "completion = ''.join([train_dataset.itos[int(i)] for i in y])\n",
    "print(completion)"
   ]
  },
  {
   "cell_type": "code",
   "execution_count": 19,
   "metadata": {},
   "outputs": [
    {
     "data": {
      "text/plain": [
       "'令狐冲一个箭步步走近，月光下见光下见两个人站在当地，正是华山派弟子洪人雄。他瞧着门下的两个师叔，他一个是师叔。”\\n\\n\\n\\n\\u3000\\u3000这时候令狐冲已到了众人，一边坐起来，一个身材魁梧的红脸道人，劳德诺知道这五张太师椅是为五岳剑派的五位掌门人而设，嵩山、恒山、衡山、华山四剑派掌门人都没到，那红脸道人是泰山派的掌门天门道人。两旁坐着十九位武林前辈，恒山派定逸师太，青城派余沧海，浙南雁荡山何三七都在其内。下首主位坐着个身穿酱色茧绸袍子、矮矮胖胖、犹如财主模样的中年人，正是主人刘正风。劳德诺先向主人刘正风行礼，再向天门道人拜倒，说道：“华山弟子劳德诺，叩见天门师伯。”其余四名弟子将他踢得飞了出去。那尸身飞奔出数丈，砰的一声，落在数丈之外。他心中一酸，更加乱了，只想：“我本来担心小师妹和林师弟练剑，见小师妹对林师弟现下他情深义重，却也这么又为甚么冷心？”但觉渐渐失，又想：“我比小师妹美貌得多，比我又这样好几岁上，不该我是师父了。’我问：‘爹爹，这人杀得怎样好？我早就认了，又有甚么好事？’令狐大哥道：‘为甚么舍命救我？我不顾自己性命，却半点也不顾着她。’我说：‘你说的是自己，我跟男子汉大丈夫义有干系，你是这么想，我又何必性儿？”\\n\\n\\n\\n\\u3000\\u3000令狐冲素知这女人言合我，只要将她配那个女子，那自己闹着玩，说道：“乖，不得我婆婆，待你一直倚，便在这朝夕间便腐烂化成了。”\\n\\n\\n\\n\\u3000\\u3000那婆婆道：“那又为甚么？我说呢咱们一年古时三个人便在此看一次。”令狐冲道：“是了，你许多江湖豪客，不是存心了？”\\n\\n\\n\\u3000\\u3000那婆婆道：“你既然不能答应此事，那么你便自行去罢。”令狐冲忙道：“好，好！我答应就是，不论在何等情景之下，决不正眼向婆婆看上一眼。”那婆婆道：“连我的背影也不许看。”令狐冲心想：“难道连你的背影也是丑陋不堪？世上最难看的背影，若非侏儒，便是驼背，那也没有甚么。我和你一同长途跋涉，连背影也不许看，只怕有些不易。”\\n\\n\\n\\n\\u3000\\u3000那婆婆听他迟疑不答，问道：“你办不到么？”\\n\\n\\n\\n\\u3000\\u3000令狐冲道：“办得到，办得到。要是我瞧了婆婆一眼，我剜了自己眼睛。”\\n\\n\\n\\n\\u3000\\u3000那婆婆道：“你可要记着才好。你先走，我跟在你后面。”\\n\\n\\n\\n\\u3000\\u3000令狐冲道：“也好，你肯走。”那婆婆道：“好，你不走，我赔不是，我就在那里瞧一起。”\\n\\n\\n\\u3000\\u3000令狐冲笑道：“好，我不说。婆婆，我不是说话太过粗话，别过不数，可是倘若我不在你身边，那就好了。”\\n\\n\\n\\n\\u3000\\u3000那婆婆道：“你受伤不轻，何不去风物佳胜之处，登临山水，以遣襟怀？却也强于徒自悲苦。”令狐冲哈哈一笑，说道：“婆婆说得是，令狐冲于生死之事，本来也不怎么放在心上，下的既是前辈对她连头也不曾参觉，但显然对这话十分恭敬，那哪里有甚么痛恨之意？胡说八道！”\\n\\n\\n\\n\\u3000\\u3000令狐冲道：“弟子言之间，哪里知道凉得闻。”那婆婆道：“本来是衡山派的一位高手，这位婆婆言道，那么你只不过奉命而已，请令狐少侠赏收。”说着深深一揖。\\n\\n\\n\\n\\u3000\\u3000刘正风满脸笑容，说道：“此事多也没完。咱们华山派一向金盆洗手，那也不是甚么好说的。武林人逼我做你，最多称‘寻常’，没说正派正邪是。”\\n\\n\\n\\n\\u3000\\u3000费彬道：“你说是魔教妖人，‘侠义’二字，意思是说的，未免不人，这番令人都不识得，左盟主毕竟是信得过他老人家的话，未免过分了。”说着左手一伸，请她放入怀。\\n\\n\\n\\n\\u3000\\u3000群雄见他脸色瞬息之间，六兄弟间忽愁眉苦脸，无法再问，只道这六道旁门真古怪真气，那姓风，有点不强盗，已受其识得他们的本领，其理所当然。说是你得逼我害，七个家伙，你都退下山去罢。”玉灵道人道：“不错，是我自杀！”游迅道：“此人大大妙。”张夫人道：“妙极，妙极！咱们跟令狐公子说过，便请他们不是。”\\n\\n\\n\\n\\u3000\\u3000张夫人冷冷的道：“滑不留手，名不虚传。这一回，岂不是又叫人抓住再放了？”游迅道：“这是六位高人的武功太过了得，令人大为敬仰，只可惜兄弟孤陋寡闻，不知六位前辈名号如何称呼？”桃根仙道：“我们兄弟六人，名叫‘桃谷六仙’？你们兄弟是桃谷六仙到，他何以说笑？”\\n\\n\\n\\n\\u3000\\u3000令狐冲道：“这六位桃兄想当时见识，原来是不知六位桃兄，桃兄，你当真是好朋友。”桃根仙道：“你们六位大英雄要当恒山派掌门，本来也无不可。但想到嵩山派掌门是你左老弟，我们六人一当恒山掌门，便得和你姓左的相提并论，未免有点，嘿嘿，这个……那个……嗯…”桃花仙道：“和他相提并论，我们六位大英雄当然是大失身分，因此上这恒山派掌门人之位，只好请令狐冲来勉为其难了。”\\n\\n\\n\\n\\u3000\\u3000左冷禅只气得七窍生烟，冷冷的道：“令狐掌门，你执掌恒山派门户，于贵派门下却不好生约束，任由他们在天下英雄之前胡说八道。嵩山派门下弟子千余人人之中，大家自然都是正派的人士，那也不是甚么正宗家的帮众。”\\n\\n\\n\\n\\u3000\\u3000封不平见令狐冲既将自己逐下山，又决非第三人之敌，对手，竟一柄长剑的剑招便刺入了他咽喉，当即举刀一声响，插在胡思乱想：“我剑宗始终不出'"
      ]
     },
     "execution_count": 19,
     "metadata": {},
     "output_type": "execute_result"
    }
   ],
   "source": [
    "completion"
   ]
  },
  {
   "cell_type": "code",
   "execution_count": null,
   "metadata": {},
   "outputs": [],
   "source": []
  }
 ],
 "metadata": {
  "interpreter": {
   "hash": "d4d1e4263499bec80672ea0156c357c1ee493ec2b1c70f0acce89fc37c4a6abe"
  },
  "kernelspec": {
   "display_name": "Python 3 (ipykernel)",
   "language": "python",
   "name": "python3"
  },
  "language_info": {
   "codemirror_mode": {
    "name": "ipython",
    "version": 3
   },
   "file_extension": ".py",
   "mimetype": "text/x-python",
   "name": "python",
   "nbconvert_exporter": "python",
   "pygments_lexer": "ipython3",
   "version": "3.8.10"
  },
  "toc": {
   "base_numbering": 1,
   "nav_menu": {},
   "number_sections": true,
   "sideBar": true,
   "skip_h1_title": false,
   "title_cell": "Table of Contents",
   "title_sidebar": "Contents",
   "toc_cell": false,
   "toc_position": {},
   "toc_section_display": true,
   "toc_window_display": false
  }
 },
 "nbformat": 4,
 "nbformat_minor": 4
}
